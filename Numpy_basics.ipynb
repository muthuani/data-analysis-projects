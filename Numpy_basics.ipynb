{
  "nbformat": 4,
  "nbformat_minor": 0,
  "metadata": {
    "colab": {
      "provenance": []
    },
    "kernelspec": {
      "name": "python3",
      "display_name": "Python 3"
    },
    "language_info": {
      "name": "python"
    }
  },
  "cells": [
    {
      "cell_type": "code",
      "execution_count": null,
      "metadata": {
        "colab": {
          "base_uri": "https://localhost:8080/"
        },
        "collapsed": true,
        "id": "fFmiHXPGErOi",
        "outputId": "a3248551-813f-44e5-f77b-9aaa698e6ee2"
      },
      "outputs": [
        {
          "output_type": "stream",
          "name": "stdout",
          "text": [
            "Requirement already satisfied: numpy in /usr/local/lib/python3.12/dist-packages (2.0.2)\n"
          ]
        }
      ],
      "source": [
        "!pip install numpy"
      ]
    },
    {
      "cell_type": "code",
      "source": [
        "import numpy as np"
      ],
      "metadata": {
        "id": "9yfk49weE1gM"
      },
      "execution_count": null,
      "outputs": []
    },
    {
      "cell_type": "code",
      "source": [
        "list1=[10,20,30,40,5]\n",
        "print(f\"List :\",list1)\n",
        "\n",
        "#Now print array from list\n",
        "arr_list = np.array(list1)\n",
        "print(\"Created array from above List :\",arr_list)"
      ],
      "metadata": {
        "colab": {
          "base_uri": "https://localhost:8080/"
        },
        "id": "SV6JYtNgFUQe",
        "outputId": "852bd284-f672-4e18-c3a5-4178da3eba9e"
      },
      "execution_count": null,
      "outputs": [
        {
          "output_type": "stream",
          "name": "stdout",
          "text": [
            "List : [10, 20, 30, 40, 5]\n",
            "Created array from above List : [10 20 30 40  5]\n"
          ]
        }
      ]
    },
    {
      "cell_type": "code",
      "source": [
        "# 1. Creating numpy arrays\n",
        "arr1 = np.array([1, 2, 3, 4, 5])        # 1D array\n",
        "arr2 = np.array([[1, 2, 3], [4, 5, 6]]) # 2D array\n",
        "arr3 = np.zeros((2, 3))                 # 2x3 array of zeros\n",
        "arr4 = np.ones((3, 2))                  # 3x2 array of ones\n",
        "arr5 = np.eye(3)                        # Identity matrix (3x3)\n",
        "arr5_1 = np.identity(3)                 # Identity matrix method 2 (3x3)\n",
        "arr6 = np.arange(0, 10, 2)              # Array from 0 to 8 with step 2\n",
        "arr7 = np.linspace(0, 1, 5)             # 5 numbers between 0 and 1\n",
        "arr8 = np.empty((3,2))                  # Creates an array without initializing its values, Possible Output (values may vary)\n",
        "\n",
        "print(\"1D Array:\", arr1)\n",
        "print(\"2D Array:\\n\", arr2)\n",
        "print(\"Zeros:\\n\", arr3)\n",
        "print(\"Ones:\\n\", arr4)\n",
        "print(\"Identity Matrix:\\n\", arr5)\n",
        "print(\"Identity Matrix Method2:\\n\", arr5_1)\n",
        "print(\"Arange:\", arr6)\n",
        "print(\"Linspace:\", arr7)\n",
        "print(\"Empty:\\n\",arr8)"
      ],
      "metadata": {
        "colab": {
          "base_uri": "https://localhost:8080/"
        },
        "collapsed": true,
        "id": "ZXdAsyraGiNx",
        "outputId": "b715d51c-0d7a-438f-a8e2-af889cd0371d"
      },
      "execution_count": null,
      "outputs": [
        {
          "output_type": "stream",
          "name": "stdout",
          "text": [
            "1D Array: [1 2 3 4 5]\n",
            "2D Array:\n",
            " [[1 2 3]\n",
            " [4 5 6]]\n",
            "Zeros:\n",
            " [[0. 0. 0.]\n",
            " [0. 0. 0.]]\n",
            "Ones:\n",
            " [[1. 1.]\n",
            " [1. 1.]\n",
            " [1. 1.]]\n",
            "Identity Matrix:\n",
            " [[1. 0. 0.]\n",
            " [0. 1. 0.]\n",
            " [0. 0. 1.]]\n",
            "Identity Matrix Method2:\n",
            " [[1. 0. 0.]\n",
            " [0. 1. 0.]\n",
            " [0. 0. 1.]]\n",
            "Arange: [0 2 4 6 8]\n",
            "Linspace: [0.   0.25 0.5  0.75 1.  ]\n",
            "Empty:\n",
            " [[1. 1.]\n",
            " [1. 1.]\n",
            " [1. 1.]]\n"
          ]
        }
      ]
    },
    {
      "cell_type": "code",
      "source": [
        "# 2. Array attributes\n",
        "print(\"\\nArray shape:\", arr2.shape)   # rows, columns\n",
        "print(\"Array dimensions:\", arr2.ndim) # number of dimensions\n",
        "print(\"Array size:\", arr2.size)       # total elements\n",
        "print(\"Array datatype:\", arr2.dtype)  # data type of elements\n",
        "\n",
        "\n",
        "\n",
        "# 2.1. Specify datatype while creating array\n",
        "arr1d = np.array([1, 2, 3, 4], dtype=np.float32)   # explicitly set float type\n",
        "arr2d = np.array([1, 2, 3, 4], dtype=np.int64)     # explicitly set integer type\n",
        "arr3d = np.array([1.5, 2.8, 3.9], dtype=np.int32)  # float values stored as integers\n",
        "\n",
        "print(\"\\narr1d (float32):\", arr1d, \"dtype:\", arr1d.dtype)\n",
        "print(\"arr2d (int64):\", arr2d, \"dtype:\", arr2d.dtype)\n",
        "print(\"arr3d (int32, truncated):\", arr3d, \"dtype:\", arr3d.dtype)\n",
        "\n",
        "\n",
        "# 2.2. Change datatype of an existing array\n",
        "arr4d = np.array([10, 20, 30, 40])  # default int64\n",
        "print(\"\\nOriginal arr4:\", arr4d, \"dtype:\", arr4d.dtype)\n",
        "\n",
        "# Convert int → float\n",
        "arr4_float = arr4d.astype(np.float64)\n",
        "print(\"arr4d converted to float:\", arr4_float, \"dtype:\", arr4_float.dtype)\n",
        "\n",
        "# Convert int → string\n",
        "arr4_str = arr4d.astype(str)\n",
        "print(\"arr4d converted to string:\", arr4_str, \"dtype:\", arr4_str.dtype)\n",
        "\n",
        "# Convert float → int\n",
        "arr5d = np.array([3.7, 8.9, 2.2])\n",
        "arr5d_int = arr5d.astype(int)   # decimals are truncated (not rounded!)\n",
        "print(\"\\nOriginal arr5:\", arr5d, \"dtype:\", arr5d.dtype)\n",
        "print(\"arr5 converted to int:\", arr5d_int, \"dtype:\", arr5d_int.dtype)\n"
      ],
      "metadata": {
        "colab": {
          "base_uri": "https://localhost:8080/"
        },
        "id": "rBEgxB0MHqf4",
        "outputId": "367e6229-4dec-4ed9-e419-d6bc5a9aaaba"
      },
      "execution_count": null,
      "outputs": [
        {
          "output_type": "stream",
          "name": "stdout",
          "text": [
            "\n",
            "Array shape: (2, 3)\n",
            "Array dimensions: 2\n",
            "Array size: 6\n",
            "Array datatype: int64\n",
            "\n",
            "arr1d (float32): [1. 2. 3. 4.] dtype: float32\n",
            "arr2d (int64): [1 2 3 4] dtype: int64\n",
            "arr3d (int32, truncated): [1 2 3] dtype: int32\n",
            "\n",
            "Original arr4: [10 20 30 40] dtype: int64\n",
            "arr4d converted to float: [10. 20. 30. 40.] dtype: float64\n",
            "arr4d converted to string: ['10' '20' '30' '40'] dtype: <U21\n",
            "\n",
            "Original arr5: [3.7 8.9 2.2] dtype: float64\n",
            "arr5 converted to int: [3 8 2] dtype: int64\n"
          ]
        }
      ]
    },
    {
      "cell_type": "code",
      "source": [
        "# 3. Indexing and slicing\n",
        "print(\"\\nFirst element of arr1:\", arr1[0])\n",
        "print(\"Last element of arr1:\", arr1[-1])\n",
        "print(\"First row of arr2:\", arr2[0])\n",
        "print(\"Second column of arr2:\", arr2[:, 1])  # all rows, 2nd column"
      ],
      "metadata": {
        "colab": {
          "base_uri": "https://localhost:8080/"
        },
        "id": "M4lhc4qfH_0q",
        "outputId": "027e39f5-f956-4599-9e75-d43bc1346668"
      },
      "execution_count": null,
      "outputs": [
        {
          "output_type": "stream",
          "name": "stdout",
          "text": [
            "\n",
            "First element of arr1: 1\n",
            "Last element of arr1: 5\n",
            "First row of arr2: [1 2 3]\n",
            "Second column of arr2: [2 5]\n"
          ]
        }
      ]
    },
    {
      "cell_type": "code",
      "source": [
        "# 4. Array operations\n",
        "a = np.array([10, 20, 30, 40])\n",
        "b = np.array([1, 2, 3, 4])\n",
        "\n",
        "print(\"\\nAddition:\", a + b)\n",
        "print(\"Subtraction:\", a - b)\n",
        "print(\"Multiplication:\", a * b)\n",
        "print(\"Division:\", a / b)\n",
        "print(\"Square of a:\", a ** 2)\n",
        "print(\"Square root of a:\", np.sqrt(a))\n"
      ],
      "metadata": {
        "colab": {
          "base_uri": "https://localhost:8080/"
        },
        "id": "newdZp9kIZp-",
        "outputId": "6d6dffd2-3ca2-4045-cf0d-fae1f7b3c786"
      },
      "execution_count": null,
      "outputs": [
        {
          "output_type": "stream",
          "name": "stdout",
          "text": [
            "\n",
            "Addition: [11 22 33 44]\n",
            "Subtraction: [ 9 18 27 36]\n",
            "Multiplication: [ 10  40  90 160]\n",
            "Division: [10. 10. 10. 10.]\n",
            "Square of a: [ 100  400  900 1600]\n",
            "Square root of a: [3.16227766 4.47213595 5.47722558 6.32455532]\n"
          ]
        }
      ]
    },
    {
      "cell_type": "code",
      "source": [
        "# 5. Matrix operations\n",
        "m1 = np.array([[1, 2], [3, 4]])\n",
        "m2 = np.array([[5, 6], [7, 8]])\n",
        "\n",
        "print(\"\\nMatrix addition:\\n\", m1 + m2)\n",
        "\n",
        "print(\"Matrix multiplication:\\n\", m1 * m2)   # or np.dot(m1, m2)\n",
        "\n",
        "print(\"Transpose of Matrix m1:\\n\", m1.T)\n"
      ],
      "metadata": {
        "colab": {
          "base_uri": "https://localhost:8080/"
        },
        "id": "U9P7epmTIghg",
        "outputId": "e7a1d640-08de-405d-8f4a-a598c3ecb809"
      },
      "execution_count": null,
      "outputs": [
        {
          "output_type": "stream",
          "name": "stdout",
          "text": [
            "\n",
            "Matrix addition:\n",
            " [[ 6  8]\n",
            " [10 12]]\n",
            "Matrix multiplication:\n",
            " [[ 5 12]\n",
            " [21 32]]\n",
            "Transpose of Matrix m1:\n",
            " [[1 3]\n",
            " [2 4]]\n"
          ]
        }
      ]
    },
    {
      "cell_type": "code",
      "source": [
        "# 6. Useful functions\n",
        "rand_arr = np.random.rand(2, 3)  # Random numbers between 0 and 1\n",
        "print(\"\\nRandom Array:\\n\", rand_arr)\n",
        "\n",
        "print(\"Max value:\", rand_arr.max())\n",
        "print(\"Min value:\", rand_arr.min())\n",
        "print(\"Sum of elements:\", rand_arr.sum())\n",
        "print(\"Mean:\", rand_arr.mean())\n",
        "print(\"Standard Deviation:\", rand_arr.std())\n",
        "\n",
        "# 7. Reshaping arrays\n",
        "reshaped = np.arange(12).reshape(3, 4)\n",
        "print(\"\\nReshaped Array (3x4):\\n\", reshaped)"
      ],
      "metadata": {
        "colab": {
          "base_uri": "https://localhost:8080/"
        },
        "id": "1FSAwMy2JMeX",
        "outputId": "ace5e82c-4954-4d07-8853-3266f401f2d3"
      },
      "execution_count": null,
      "outputs": [
        {
          "output_type": "stream",
          "name": "stdout",
          "text": [
            "\n",
            "Random Array:\n",
            " [[0.39463064 0.30152656 0.55447576]\n",
            " [0.98156102 0.09113633 0.12370663]]\n",
            "Max value: 0.9815610173989205\n",
            "Min value: 0.09113633114130659\n",
            "Sum of elements: 2.4470369296167482\n",
            "Mean: 0.40783948826945804\n",
            "Standard Deviation: 0.3008786773238733\n",
            "\n",
            "Reshaped Array (3x4):\n",
            " [[ 0  1  2  3]\n",
            " [ 4  5  6  7]\n",
            " [ 8  9 10 11]]\n"
          ]
        }
      ]
    },
    {
      "cell_type": "code",
      "source": [
        "# 8. A scalar is just a single value\n",
        "\n",
        "arr_scalar = np.array([2, 4, 6, 8])\n",
        "\n",
        "# Scalar operations apply to every element\n",
        "print(\"Multiply array by scalar:\", arr_scalar * 3)\n",
        "print(\"Add scalar to array:\", arr_scalar + 5)\n",
        "print(\"Divide array by scalar:\", arr_scalar / 2)"
      ],
      "metadata": {
        "colab": {
          "base_uri": "https://localhost:8080/"
        },
        "id": "MDlwmx7VXg_H",
        "outputId": "e8886dfd-0f78-4cab-e682-db6411a516a6"
      },
      "execution_count": null,
      "outputs": [
        {
          "output_type": "stream",
          "name": "stdout",
          "text": [
            "Multiply array by scalar: [ 6 12 18 24]\n",
            "Add scalar to array: [ 7  9 11 13]\n",
            "Divide array by scalar: [1. 2. 3. 4.]\n"
          ]
        }
      ]
    },
    {
      "cell_type": "code",
      "source": [
        "# 9. Broadcasting allows arrays of different shapes to be combined\n",
        "arrs = np.array([1, 2, 3, 4])\n",
        "\n",
        "# A scalar (single number) is broadcasted across the array\n",
        "print(\"Add scalar 10 to array:\", arrs + 10)\n",
        "\n",
        "# Broadcasting with a smaller array\n",
        "matrix = np.array([[1], [2], [3]])  # Shape (3,1)\n",
        "vector = np.array([10, 20, 30])     # Shape (3,)\n",
        "result = matrix + vector            # vector is broadcasted to match matrix shape\n",
        "\n",
        "print(\"Matrix:\\n\", matrix)\n",
        "print(\"Vector:\", vector)\n",
        "print(\"Broadcasted Addition:\\n\", result)"
      ],
      "metadata": {
        "colab": {
          "base_uri": "https://localhost:8080/"
        },
        "id": "7yteoCluYC1P",
        "outputId": "6f7d873a-e8b2-4380-af54-6c55ecdb3100"
      },
      "execution_count": null,
      "outputs": [
        {
          "output_type": "stream",
          "name": "stdout",
          "text": [
            "Add scalar 10 to array: [11 12 13 14]\n",
            "Matrix:\n",
            " [[1]\n",
            " [2]\n",
            " [3]]\n",
            "Vector: [10 20 30]\n",
            "Broadcasted Addition:\n",
            " [[11 21 31]\n",
            " [12 22 32]\n",
            " [13 23 33]]\n"
          ]
        }
      ]
    },
    {
      "cell_type": "code",
      "source": [
        "# 10. Filter concepts\n",
        "arr = np.array([5, 10, 15, 20, 25, 30])\n",
        "\n",
        "# Condition to filter values greater than 15\n",
        "condition = arr > 15\n",
        "\n",
        "print(\"Boolean mask:\", condition)  # Shows True/False\n",
        "print(\"Filtered values:\", arr[condition])  # Only values > 15\n",
        "\n",
        "# Multiple conditions using logical operators\n",
        "print(\"Values between 10 and 25:\", arr[(arr > 10) & (arr < 25)])\n",
        "\n",
        "# Filter even numbers\n",
        "print(\"Even numbers:\", arr[arr % 2 == 0])"
      ],
      "metadata": {
        "colab": {
          "base_uri": "https://localhost:8080/"
        },
        "id": "nQh0zPNdYiMx",
        "outputId": "d98d6edf-169f-4bfd-98de-b223f0bcf21d"
      },
      "execution_count": null,
      "outputs": [
        {
          "output_type": "stream",
          "name": "stdout",
          "text": [
            "Boolean mask: [False False False  True  True  True]\n",
            "Filtered values: [20 25 30]\n",
            "Values between 10 and 25: [15 20]\n",
            "Even numbers: [10 20 30]\n"
          ]
        }
      ]
    }
  ]
}